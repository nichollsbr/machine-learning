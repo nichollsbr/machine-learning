{
 "cells": [
  {
   "cell_type": "markdown",
   "metadata": {},
   "source": [
    "Because there is so much Green taxi trip data (16.4 million rows), I wanted to dedicate a job to reading in the data, doing some basic filtering, and saving off two months (April and March).  This will make it easier and less time consuming to clean up the data in the future since I can read files that are already somewhat cleaned and can avoid running all of this code over and over as I figure out what features are important."
   ]
  },
  {
   "cell_type": "code",
   "execution_count": 1,
   "metadata": {
    "collapsed": true
   },
   "outputs": [],
   "source": [
    "import pandas as pd\n",
    "from datetime import datetime\n",
    "from geopy.distance import vincenty\n",
    "\n",
    "pd.set_option('display.max_columns', None)"
   ]
  },
  {
   "cell_type": "code",
   "execution_count": 2,
   "metadata": {
    "collapsed": true
   },
   "outputs": [],
   "source": [
    "green_taxi = pd.read_csv(\"2016_Green_Taxi_Trip_Data.csv\")"
   ]
  },
  {
   "cell_type": "code",
   "execution_count": 3,
   "metadata": {},
   "outputs": [
    {
     "data": {
      "text/plain": [
       "VendorID                 16385532\n",
       "lpep_pickup_datetime     16385532\n",
       "Lpep_dropoff_datetime    16385532\n",
       "Store_and_fwd_flag       16385532\n",
       "RateCodeID               16385532\n",
       "Pickup_longitude          9018030\n",
       "Pickup_latitude           9018030\n",
       "Dropoff_longitude         9018030\n",
       "Dropoff_latitude          9018030\n",
       "Passenger_count          16385532\n",
       "Trip_distance            16385532\n",
       "Fare_amount              16385532\n",
       "Extra                    16385532\n",
       "MTA_tax                  16385532\n",
       "Tip_amount               16385532\n",
       "Tolls_amount             16385532\n",
       "Ehail_fee                       0\n",
       "improvement_surcharge    16385532\n",
       "Total_amount             16385532\n",
       "Payment_type             16385532\n",
       "Trip_type                16385060\n",
       "PULocationID              7367502\n",
       "DOLocationID              7367502\n",
       "dtype: int64"
      ]
     },
     "execution_count": 3,
     "metadata": {},
     "output_type": "execute_result"
    }
   ],
   "source": [
    "green_taxi.count()"
   ]
  },
  {
   "cell_type": "code",
   "execution_count": 4,
   "metadata": {
    "collapsed": true
   },
   "outputs": [],
   "source": [
    "green_taxi_with_geo = green_taxi[green_taxi[\"Pickup_longitude\"].notnull()]"
   ]
  },
  {
   "cell_type": "code",
   "execution_count": 5,
   "metadata": {
    "scrolled": true
   },
   "outputs": [
    {
     "data": {
      "text/html": [
       "<div>\n",
       "<style>\n",
       "    .dataframe thead tr:only-child th {\n",
       "        text-align: right;\n",
       "    }\n",
       "\n",
       "    .dataframe thead th {\n",
       "        text-align: left;\n",
       "    }\n",
       "\n",
       "    .dataframe tbody tr th {\n",
       "        vertical-align: top;\n",
       "    }\n",
       "</style>\n",
       "<table border=\"1\" class=\"dataframe\">\n",
       "  <thead>\n",
       "    <tr style=\"text-align: right;\">\n",
       "      <th></th>\n",
       "      <th>VendorID</th>\n",
       "      <th>lpep_pickup_datetime</th>\n",
       "      <th>Lpep_dropoff_datetime</th>\n",
       "      <th>Store_and_fwd_flag</th>\n",
       "      <th>RateCodeID</th>\n",
       "      <th>Pickup_longitude</th>\n",
       "      <th>Pickup_latitude</th>\n",
       "      <th>Dropoff_longitude</th>\n",
       "      <th>Dropoff_latitude</th>\n",
       "      <th>Passenger_count</th>\n",
       "      <th>Trip_distance</th>\n",
       "      <th>Fare_amount</th>\n",
       "      <th>Extra</th>\n",
       "      <th>MTA_tax</th>\n",
       "      <th>Tip_amount</th>\n",
       "      <th>Tolls_amount</th>\n",
       "      <th>Ehail_fee</th>\n",
       "      <th>improvement_surcharge</th>\n",
       "      <th>Total_amount</th>\n",
       "      <th>Payment_type</th>\n",
       "      <th>Trip_type</th>\n",
       "      <th>PULocationID</th>\n",
       "      <th>DOLocationID</th>\n",
       "    </tr>\n",
       "  </thead>\n",
       "  <tbody>\n",
       "    <tr>\n",
       "      <th>0</th>\n",
       "      <td>2</td>\n",
       "      <td>01/01/2016 12:29:24 AM</td>\n",
       "      <td>01/01/2016 12:39:36 AM</td>\n",
       "      <td>N</td>\n",
       "      <td>1</td>\n",
       "      <td>-73.928642</td>\n",
       "      <td>40.680611</td>\n",
       "      <td>-73.924278</td>\n",
       "      <td>40.698044</td>\n",
       "      <td>1</td>\n",
       "      <td>1.46</td>\n",
       "      <td>8.0</td>\n",
       "      <td>0.5</td>\n",
       "      <td>0.5</td>\n",
       "      <td>1.86</td>\n",
       "      <td>0.0</td>\n",
       "      <td>NaN</td>\n",
       "      <td>0.3</td>\n",
       "      <td>11.16</td>\n",
       "      <td>1</td>\n",
       "      <td>1.0</td>\n",
       "      <td>NaN</td>\n",
       "      <td>NaN</td>\n",
       "    </tr>\n",
       "    <tr>\n",
       "      <th>1</th>\n",
       "      <td>2</td>\n",
       "      <td>01/01/2016 12:19:39 AM</td>\n",
       "      <td>01/01/2016 12:39:18 AM</td>\n",
       "      <td>N</td>\n",
       "      <td>1</td>\n",
       "      <td>-73.952675</td>\n",
       "      <td>40.723175</td>\n",
       "      <td>-73.923920</td>\n",
       "      <td>40.761379</td>\n",
       "      <td>1</td>\n",
       "      <td>3.56</td>\n",
       "      <td>15.5</td>\n",
       "      <td>0.5</td>\n",
       "      <td>0.5</td>\n",
       "      <td>0.00</td>\n",
       "      <td>0.0</td>\n",
       "      <td>NaN</td>\n",
       "      <td>0.3</td>\n",
       "      <td>16.80</td>\n",
       "      <td>2</td>\n",
       "      <td>1.0</td>\n",
       "      <td>NaN</td>\n",
       "      <td>NaN</td>\n",
       "    </tr>\n",
       "    <tr>\n",
       "      <th>2</th>\n",
       "      <td>2</td>\n",
       "      <td>01/01/2016 12:19:33 AM</td>\n",
       "      <td>01/01/2016 12:39:48 AM</td>\n",
       "      <td>N</td>\n",
       "      <td>1</td>\n",
       "      <td>-73.971611</td>\n",
       "      <td>40.676105</td>\n",
       "      <td>-74.013161</td>\n",
       "      <td>40.646072</td>\n",
       "      <td>1</td>\n",
       "      <td>3.79</td>\n",
       "      <td>16.5</td>\n",
       "      <td>0.5</td>\n",
       "      <td>0.5</td>\n",
       "      <td>4.45</td>\n",
       "      <td>0.0</td>\n",
       "      <td>NaN</td>\n",
       "      <td>0.3</td>\n",
       "      <td>22.25</td>\n",
       "      <td>1</td>\n",
       "      <td>1.0</td>\n",
       "      <td>NaN</td>\n",
       "      <td>NaN</td>\n",
       "    </tr>\n",
       "    <tr>\n",
       "      <th>3</th>\n",
       "      <td>2</td>\n",
       "      <td>01/01/2016 12:22:12 AM</td>\n",
       "      <td>01/01/2016 12:38:32 AM</td>\n",
       "      <td>N</td>\n",
       "      <td>1</td>\n",
       "      <td>-73.989502</td>\n",
       "      <td>40.669579</td>\n",
       "      <td>-74.000648</td>\n",
       "      <td>40.689034</td>\n",
       "      <td>1</td>\n",
       "      <td>3.01</td>\n",
       "      <td>13.5</td>\n",
       "      <td>0.5</td>\n",
       "      <td>0.5</td>\n",
       "      <td>0.00</td>\n",
       "      <td>0.0</td>\n",
       "      <td>NaN</td>\n",
       "      <td>0.3</td>\n",
       "      <td>14.80</td>\n",
       "      <td>2</td>\n",
       "      <td>1.0</td>\n",
       "      <td>NaN</td>\n",
       "      <td>NaN</td>\n",
       "    </tr>\n",
       "    <tr>\n",
       "      <th>4</th>\n",
       "      <td>2</td>\n",
       "      <td>01/01/2016 12:24:01 AM</td>\n",
       "      <td>01/01/2016 12:39:22 AM</td>\n",
       "      <td>N</td>\n",
       "      <td>1</td>\n",
       "      <td>-73.964729</td>\n",
       "      <td>40.682854</td>\n",
       "      <td>-73.940720</td>\n",
       "      <td>40.663013</td>\n",
       "      <td>1</td>\n",
       "      <td>2.55</td>\n",
       "      <td>12.0</td>\n",
       "      <td>0.5</td>\n",
       "      <td>0.5</td>\n",
       "      <td>0.00</td>\n",
       "      <td>0.0</td>\n",
       "      <td>NaN</td>\n",
       "      <td>0.3</td>\n",
       "      <td>13.30</td>\n",
       "      <td>2</td>\n",
       "      <td>1.0</td>\n",
       "      <td>NaN</td>\n",
       "      <td>NaN</td>\n",
       "    </tr>\n",
       "  </tbody>\n",
       "</table>\n",
       "</div>"
      ],
      "text/plain": [
       "   VendorID    lpep_pickup_datetime   Lpep_dropoff_datetime  \\\n",
       "0         2  01/01/2016 12:29:24 AM  01/01/2016 12:39:36 AM   \n",
       "1         2  01/01/2016 12:19:39 AM  01/01/2016 12:39:18 AM   \n",
       "2         2  01/01/2016 12:19:33 AM  01/01/2016 12:39:48 AM   \n",
       "3         2  01/01/2016 12:22:12 AM  01/01/2016 12:38:32 AM   \n",
       "4         2  01/01/2016 12:24:01 AM  01/01/2016 12:39:22 AM   \n",
       "\n",
       "  Store_and_fwd_flag  RateCodeID  Pickup_longitude  Pickup_latitude  \\\n",
       "0                  N           1        -73.928642        40.680611   \n",
       "1                  N           1        -73.952675        40.723175   \n",
       "2                  N           1        -73.971611        40.676105   \n",
       "3                  N           1        -73.989502        40.669579   \n",
       "4                  N           1        -73.964729        40.682854   \n",
       "\n",
       "   Dropoff_longitude  Dropoff_latitude  Passenger_count  Trip_distance  \\\n",
       "0         -73.924278         40.698044                1           1.46   \n",
       "1         -73.923920         40.761379                1           3.56   \n",
       "2         -74.013161         40.646072                1           3.79   \n",
       "3         -74.000648         40.689034                1           3.01   \n",
       "4         -73.940720         40.663013                1           2.55   \n",
       "\n",
       "   Fare_amount  Extra  MTA_tax  Tip_amount  Tolls_amount  Ehail_fee  \\\n",
       "0          8.0    0.5      0.5        1.86           0.0        NaN   \n",
       "1         15.5    0.5      0.5        0.00           0.0        NaN   \n",
       "2         16.5    0.5      0.5        4.45           0.0        NaN   \n",
       "3         13.5    0.5      0.5        0.00           0.0        NaN   \n",
       "4         12.0    0.5      0.5        0.00           0.0        NaN   \n",
       "\n",
       "   improvement_surcharge  Total_amount  Payment_type  Trip_type   \\\n",
       "0                    0.3         11.16             1         1.0   \n",
       "1                    0.3         16.80             2         1.0   \n",
       "2                    0.3         22.25             1         1.0   \n",
       "3                    0.3         14.80             2         1.0   \n",
       "4                    0.3         13.30             2         1.0   \n",
       "\n",
       "   PULocationID  DOLocationID  \n",
       "0           NaN           NaN  \n",
       "1           NaN           NaN  \n",
       "2           NaN           NaN  \n",
       "3           NaN           NaN  \n",
       "4           NaN           NaN  "
      ]
     },
     "execution_count": 5,
     "metadata": {},
     "output_type": "execute_result"
    }
   ],
   "source": [
    "green_taxi_with_geo[0:5]"
   ]
  },
  {
   "cell_type": "markdown",
   "metadata": {},
   "source": [
    "I will not be using any of the below columns as features, or as a way of filtering the data, so I'm just going to remove this data first."
   ]
  },
  {
   "cell_type": "markdown",
   "metadata": {},
   "source": [
    "The initial charge on a taxi fare is $2.50 http://www.nyc.gov/html/tlc/html/passenger/taxicab_rate.shtml.  Will limit to 2.0 in the case of negotiated fare.\n",
    "\n",
    "In addition, the base rate for a mile is \\$2.50.  Since it looks like a driver may negotiate a fare, we are going to assume the driver wouldn't go any lower than 50 cents a mile.  In addition, very, very, very (very, very) few people would pay over \\$5000/mile (note this is equivalent to \\$50 for 0.01 mile - about a block) in base rate.  Both of these point to some piece of data being off.\n",
    "\n",
    "I am also going to only keep records with rate codes that are a 1 (standard fare) or a 5 (negotiated fares) as these account for most of the data."
   ]
  },
  {
   "cell_type": "code",
   "execution_count": 6,
   "metadata": {
    "collapsed": true,
    "scrolled": true
   },
   "outputs": [],
   "source": [
    "green_taxi_with_geo = green_taxi_with_geo[(green_taxi_with_geo[\"Trip_distance\"] > 0) & (green_taxi_with_geo[\"Fare_amount\"] >= 2)]\n",
    "green_taxi_with_geo = green_taxi_with_geo[((green_taxi_with_geo[\"Fare_amount\"]/green_taxi_with_geo[\"Trip_distance\"]) >= 0.5) & ((green_taxi_with_geo[\"Fare_amount\"]/green_taxi_with_geo[\"Trip_distance\"]) <= 5000)]\n",
    "green_taxi_with_geo = green_taxi_with_geo[(green_taxi_with_geo[\"RateCodeID\"] == 1) | (green_taxi_with_geo[\"RateCodeID\"] == 5)]"
   ]
  },
  {
   "cell_type": "code",
   "execution_count": 7,
   "metadata": {
    "collapsed": true,
    "scrolled": true
   },
   "outputs": [],
   "source": [
    "green_taxi_with_geo = green_taxi_with_geo.drop(labels = [\n",
    "    \"PULocationID\", \"DOLocationID\", \"Ehail_fee\", \n",
    "    \"Fare_amount\", \"Extra\", \"MTA_tax\", \"Tip_amount\", \n",
    "    \"Tolls_amount\", \"Total_amount\", \n",
    "    \"Payment_type\", \"improvement_surcharge\"], axis = 1)"
   ]
  },
  {
   "cell_type": "code",
   "execution_count": 8,
   "metadata": {
    "collapsed": true
   },
   "outputs": [],
   "source": [
    "def getDate(d, format):\n",
    "    if not isinstance(d, str):\n",
    "        return None\n",
    "    return datetime.strptime(d, format)\n",
    "\n",
    "green_taxi_with_geo[\"lpep_pickup_datetime\"] = green_taxi_with_geo[\"lpep_pickup_datetime\"].map(lambda x: getDate(x, \"%m/%d/%Y %I:%M:%S %p\"))\n",
    "green_taxi_with_geo[\"Lpep_dropoff_datetime\"] = green_taxi_with_geo[\"Lpep_dropoff_datetime\"].map(lambda x: getDate(x, \"%m/%d/%Y %I:%M:%S %p\"))"
   ]
  },
  {
   "cell_type": "markdown",
   "metadata": {},
   "source": [
    "New York City geo points are around (40, -73).  Because of this, I am going to do an initial filter to remove records where any of the geopoints have a 0 as the latitude or longitude.  I am also going to filter the geo down to points that are specifically within a polygon that's loosely around New York City; however to save time, I will perform that calculation only on the train/validation/test data in the next notebook. \n",
    "\n",
    "In addition, I noticed there were a few duplicate records, so I'm going to drop those.  The duplicate records could be due to groups travelling together, but I don't see much importance in keeping that information around; one record is good enough for my purposes."
   ]
  },
  {
   "cell_type": "code",
   "execution_count": 9,
   "metadata": {
    "collapsed": true
   },
   "outputs": [],
   "source": [
    "green_taxi_with_geo = green_taxi_with_geo[(green_taxi_with_geo[\"Pickup_longitude\"] != 0) & \n",
    "                                    (green_taxi_with_geo[\"Pickup_latitude\"] != 0) &\n",
    "                                    (green_taxi_with_geo[\"Dropoff_longitude\"] != 0) & \n",
    "                                    (green_taxi_with_geo[\"Dropoff_latitude\"] != 0)]\n",
    "\n",
    "\n",
    "green_taxi_with_geo = green_taxi_with_geo.drop_duplicates()"
   ]
  },
  {
   "cell_type": "code",
   "execution_count": 10,
   "metadata": {
    "collapsed": true
   },
   "outputs": [],
   "source": [
    "green_taxi_with_geo.to_pickle(\"data/greenTaxiWithGeo\")"
   ]
  },
  {
   "cell_type": "code",
   "execution_count": 11,
   "metadata": {
    "collapsed": true
   },
   "outputs": [],
   "source": [
    "# green_taxi_with_geo = pd.read_pickle(\"data/greenTaxiWithGeo\")"
   ]
  },
  {
   "cell_type": "code",
   "execution_count": 12,
   "metadata": {
    "collapsed": true
   },
   "outputs": [],
   "source": [
    "import geojson\n",
    "import shapely\n",
    "from shapely import geometry\n",
    "\n",
    "nyc_zone_geojson_string = open(\"data/zone.geojson\").read()\n",
    "nyc_zone_geojson = geojson.loads(nyc_zone_geojson_string)\n",
    "\n",
    "nyc_polygon = shapely.geometry.polygon.Polygon([(pt[1], pt[0]) for pt in nyc_zone_geojson[\"features\"][0][\"geometry\"][\"coordinates\"][0]])\n",
    "\n",
    "def checkIfPointIsInNYC(p_lat, p_long, d_lat, d_long):\n",
    "    return (nyc_polygon.contains(shapely.geometry.Point(p_lat, p_long))) & (nyc_polygon.contains(shapely.geometry.Point(d_lat, d_long)))\n",
    "\n",
    "def calculateDistance(p_lat, p_long, d_lat, d_long):\n",
    "    return vincenty((p_lat, p_long), (d_lat, d_long)).miles"
   ]
  },
  {
   "cell_type": "markdown",
   "metadata": {},
   "source": [
    "I decided to use April data as train/validate/test data.  In particular, I am going to train/validate on the first 3ish weeks of April and test using the last week of April.  This is to limit the number of data points to train over since all of April is still about 1.4 million records.  In addition, I thought it best to train over a continuous time segment as well as test over a continuous time segment because there is some correlation between the taxi rides minute to minute because taxis can't just transport themselves.  I am also going to see how well the final model will run over March data to see how robust the model is against different information.  I'm not expecting the model to transfer to March data well, but I'm curious and thought it would be an interesting thing to explore for this project.\n",
    "\n",
    "First, I filter the data for data that has pickup times in April.  Then, I filter that data only to Pickup/Dropoff geopoints that are within a loose polygon around NYC to ensure that I'm looking at records that are relevant to what we want to train on.  In addition, if the start and end point are outside of NYC, in most cases the record is going to be \"bad\" data. Lastly, I calculate the Vincenty distance between the pickup and dropoff geopoints; this is the \"as the bird flies\" distance between the two geopoints, so it is the minimum distance that the odometer should read for the trip.  I do allow for the odometer trip distance calculation to have up to less than 0.1 miles of the Vincenty calculation to account for potential calculation discrepancies of the Vincenty calculation as well as minor discrepancies in the start/stop geos."
   ]
  },
  {
   "cell_type": "code",
   "execution_count": 13,
   "metadata": {
    "collapsed": true
   },
   "outputs": [],
   "source": [
    "april_data = green_taxi_with_geo[green_taxi_with_geo[\"lpep_pickup_datetime\"].map(lambda x: x.month) == 4]\n",
    "\n",
    "april_data = april_data[april_data[[\"Pickup_latitude\", \"Pickup_longitude\", \"Dropoff_latitude\", \"Dropoff_longitude\"]].apply(lambda x: checkIfPointIsInNYC(*x), axis=1)]\n",
    "\n",
    "april_data[\"VincentyMiles\"] = april_data[[\"Pickup_latitude\", \"Pickup_longitude\", \"Dropoff_latitude\", \"Dropoff_longitude\"]].apply(lambda x: calculateDistance(*x), axis=1)\n",
    "april_data = april_data[(april_data[\"Trip_distance\"] - april_data[\"VincentyMiles\"]) >= -0.1]\n",
    "april_data = april_data.drop(labels = [\"Trip_distance\"], axis = 1)"
   ]
  },
  {
   "cell_type": "code",
   "execution_count": 14,
   "metadata": {
    "collapsed": true
   },
   "outputs": [],
   "source": [
    "april_data.to_pickle(\"data/allAprilData\")"
   ]
  },
  {
   "cell_type": "markdown",
   "metadata": {},
   "source": [
    "Now, I perform the same filtering on the March data."
   ]
  },
  {
   "cell_type": "code",
   "execution_count": 15,
   "metadata": {
    "collapsed": true
   },
   "outputs": [],
   "source": [
    "march_data = green_taxi_with_geo[green_taxi_with_geo[\"lpep_pickup_datetime\"].map(lambda x: x.month) == 3]\n",
    "\n",
    "march_data = march_data[march_data[[\"Pickup_latitude\", \"Pickup_longitude\", \"Dropoff_latitude\", \"Dropoff_longitude\"]].apply(lambda x: checkIfPointIsInNYC(*x), axis=1)]\n",
    "\n",
    "march_data[\"VincentyMiles\"] = march_data[[\"Pickup_latitude\", \"Pickup_longitude\", \"Dropoff_latitude\", \"Dropoff_longitude\"]].apply(lambda x: calculateDistance(*x), axis=1)\n",
    "march_data = march_data[(march_data[\"Trip_distance\"] - march_data[\"VincentyMiles\"]) >= -0.1]\n",
    "march_data = march_data.drop(labels = [\"Trip_distance\"], axis = 1)"
   ]
  },
  {
   "cell_type": "code",
   "execution_count": 16,
   "metadata": {
    "collapsed": true
   },
   "outputs": [],
   "source": [
    "march_data.to_pickle(\"data/allMarchData\")"
   ]
  }
 ],
 "metadata": {
  "kernelspec": {
   "display_name": "Python 3",
   "language": "python",
   "name": "python3"
  },
  "language_info": {
   "codemirror_mode": {
    "name": "ipython",
    "version": 3
   },
   "file_extension": ".py",
   "mimetype": "text/x-python",
   "name": "python",
   "nbconvert_exporter": "python",
   "pygments_lexer": "ipython3",
   "version": "3.6.2"
  }
 },
 "nbformat": 4,
 "nbformat_minor": 2
}
