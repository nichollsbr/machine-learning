{
 "cells": [
  {
   "cell_type": "markdown",
   "metadata": {},
   "source": [
    "In this notebook, I clean up the raw data from April and March.  I filter the data even more, enrich the taxi trip data with weather data and the sunrise/sunset information, and save off training, validation, and testing data."
   ]
  },
  {
   "cell_type": "code",
   "execution_count": 1,
   "metadata": {
    "collapsed": true
   },
   "outputs": [],
   "source": [
    "import pandas as pd\n",
    "from datetime import datetime\n",
    "\n",
    "pd.set_option('display.max_columns', None)"
   ]
  },
  {
   "cell_type": "code",
   "execution_count": 2,
   "metadata": {
    "collapsed": true
   },
   "outputs": [],
   "source": [
    "def getFloatOfPrecipitation(x):\n",
    "    if x == \"T\":\n",
    "        return float(0.00001)\n",
    "    else:\n",
    "        return float(x)\n",
    "\n",
    "def getDate(d, format):\n",
    "    if not isinstance(d, str):\n",
    "        return None\n",
    "    return datetime.strptime(d, format)\n",
    "\n",
    "def calcSecondsBetween(pickup_time, dropoff_time):\n",
    "    timediff = dropoff_time - pickup_time\n",
    "    return (dropoff_time - pickup_time).total_seconds()"
   ]
  },
  {
   "cell_type": "code",
   "execution_count": 3,
   "metadata": {
    "collapsed": true,
    "scrolled": true
   },
   "outputs": [],
   "source": [
    "sun_data = pd.read_csv(\"data/2016SunriseSunset.txt\", dtype=object)\n",
    "weather_april = pd.read_csv(\"data/April2016Weather.txt\")\n",
    "\n",
    "weather_april[\"Precipitation\"] = weather_april[\"Precipitation\"].map(lambda x: getFloatOfPrecipitation(x))\n",
    "weather_april[\"NewSnow\"] = weather_april[\"NewSnow\"].map(lambda x: getFloatOfPrecipitation(x))\n",
    "\n",
    "weather_april[\"Date\"] = weather_april[\"Date\"].map(lambda x: getDate(x, \"%Y-%m-%d\"))\n",
    "weather_april[\"Month\"] = weather_april[\"Date\"].map(lambda x: x.month)\n",
    "weather_april[\"DayNum\"] = weather_april[\"Date\"].map(lambda x: x.day)\n",
    "\n",
    "weather_april = weather_april.drop(labels = [\"HDD\", \"CDD\", \"Departure\", \"SnowDepth\", \"MaxTemp\", \"MinTemp\", \"Date\"], axis = 1)\n",
    "\n",
    "weather_april_dict = {}\n",
    "for i in weather_april.values:\n",
    "    weather_april_dict[(i[3], i[4])] = (i[0], i[1], i[2])\n",
    "    \n",
    "april_sun_data = sun_data[[\"DA\", \"4RIS\", \"4SET\"]].dropna()\n",
    "april_sun_data[\"DA\"] = april_sun_data[\"DA\"].map(lambda x: getDate(x, \"%d\").day)\n",
    "april_sun_data[\"4RIS\"] = april_sun_data[\"4RIS\"].map(lambda x: getDate(x, \"%H%M\"))\n",
    "april_sun_data[\"4SET\"] = april_sun_data[\"4SET\"].map(lambda x: getDate(x, \"%H%M\"))\n",
    "\n",
    "sun_april_dict = {}\n",
    "for i in april_sun_data.values:\n",
    "    sun_april_dict[i[0]] = (i[1], i[2])"
   ]
  },
  {
   "cell_type": "markdown",
   "metadata": {},
   "source": [
    "There are a little over 11000 records of taxis that have a total trip time of over 3 hours.  While it is conceivable that someone might buyout a taxi for a day and drive multiple places, this is a difficult situation to predict.  On the other hand, 3 hours of traffic seems possible, so I will keep in trips lasting up until 3 hours."
   ]
  },
  {
   "cell_type": "code",
   "execution_count": 4,
   "metadata": {
    "collapsed": true
   },
   "outputs": [],
   "source": [
    "green_taxi_april = pd.read_pickle(\"data/allAprilData\")\n",
    "\n",
    "taxi_april_weather_join_series = green_taxi_april[\"lpep_pickup_datetime\"].map(lambda x: weather_april_dict[(x.month, x.day)])\n",
    "green_taxi_april[\"AvgTemp\"] = taxi_april_weather_join_series.map(lambda x: x[0])\n",
    "green_taxi_april[\"Precipitation\"] = taxi_april_weather_join_series.map(lambda x: x[1])\n",
    "green_taxi_april[\"NewSnow\"] = taxi_april_weather_join_series.map(lambda x: x[2])\n",
    "\n",
    "green_taxi_april[\"trip_length_seconds\"] = green_taxi_april[[\"lpep_pickup_datetime\" ,\"Lpep_dropoff_datetime\"]].apply(lambda x: calcSecondsBetween(*x), axis=1)\n",
    "green_taxi_april[\"trip_length_minutes_rounded\"] = round(green_taxi_april[\"trip_length_seconds\"]/60)\n",
    "\n",
    "green_taxi_april = green_taxi_april[(green_taxi_april[\"trip_length_seconds\"] > 30) & (green_taxi_april[\"trip_length_minutes_rounded\"] <= 180)]\n",
    "\n",
    "green_taxi_april[\"pickup_minute\"] = green_taxi_april[\"lpep_pickup_datetime\"].map(lambda x: x.minute)\n",
    "green_taxi_april[\"pickup_hour\"] = green_taxi_april[\"lpep_pickup_datetime\"].map(lambda x: x.hour)\n",
    "green_taxi_april[\"pickup_day\"] = green_taxi_april[\"lpep_pickup_datetime\"].map(lambda x: x.day)\n",
    "green_taxi_april[\"pickup_weekday\"] = green_taxi_april[\"lpep_pickup_datetime\"].map(lambda x: x.weekday())\n",
    "\n",
    "green_taxi_april[\"dropoff_minute\"] = green_taxi_april[\"Lpep_dropoff_datetime\"].map(lambda x: x.minute)\n",
    "green_taxi_april[\"dropoff_hour\"] = green_taxi_april[\"Lpep_dropoff_datetime\"].map(lambda x: x.hour)\n",
    "green_taxi_april[\"dropoff_day\"] = green_taxi_april[\"Lpep_dropoff_datetime\"].map(lambda x: x.day)\n",
    "green_taxi_april[\"dropoff_weekday\"] = green_taxi_april[\"Lpep_dropoff_datetime\"].map(lambda x: x.weekday())"
   ]
  },
  {
   "cell_type": "code",
   "execution_count": 5,
   "metadata": {
    "collapsed": true
   },
   "outputs": [],
   "source": [
    "def mapStoreFwdFlag(x):\n",
    "    if x == \"N\":\n",
    "        return 0\n",
    "    else:\n",
    "        return 1\n",
    "    \n",
    "green_taxi_april[\"Store_and_fwd_flag\"] = green_taxi_april[\"Store_and_fwd_flag\"].map(lambda x: mapStoreFwdFlag(x))"
   ]
  },
  {
   "cell_type": "code",
   "execution_count": 6,
   "metadata": {
    "collapsed": true
   },
   "outputs": [],
   "source": [
    "def relevantTimeToAprilSunsetSunrise(x):\n",
    "    rise_set = sun_april_dict[x.day]\n",
    "    time_zeroed = datetime(1900,1,1,x.hour,x.minute)\n",
    "    if x.hour < 12: #Before noon so closer to sunrise\n",
    "        if time_zeroed >= rise_set[0]:\n",
    "            diff = time_zeroed - rise_set[0]\n",
    "            diff_minute = diff.total_seconds() / 60.0\n",
    "            if diff_minute < 90:\n",
    "                return (diff_minute, 0)\n",
    "            else :\n",
    "                return (0,0)\n",
    "        else : #Still before sunrise\n",
    "            return (0,0)    \n",
    "    else : #After noon so closer to sunset\n",
    "        if time_zeroed <= rise_set[1]:\n",
    "            diff = rise_set[1] - time_zeroed\n",
    "            diff_minute = diff.total_seconds() / 60.0\n",
    "            if diff_minute < 90:\n",
    "                return (0, diff_minute)\n",
    "            else :\n",
    "                return (0,0)\n",
    "        else : #After sunset\n",
    "            return (0,0)    \n",
    "    \n",
    "pickup_sun_series = green_taxi_april[\"lpep_pickup_datetime\"].map(lambda x: relevantTimeToAprilSunsetSunrise(x))\n",
    "dropoff_sun_series = green_taxi_april[\"Lpep_dropoff_datetime\"].map(lambda x: relevantTimeToAprilSunsetSunrise(x))\n",
    "\n",
    "green_taxi_april[\"pickup_sunrise\"] = pickup_sun_series.map(lambda x: x[0])\n",
    "green_taxi_april[\"pickup_sunset\"] = pickup_sun_series.map(lambda x: x[1])\n",
    "green_taxi_april[\"dropoff_sunrise\"] = dropoff_sun_series.map(lambda x: x[0])\n",
    "green_taxi_april[\"dropoff_sunset\"] = dropoff_sun_series.map(lambda x: x[1])"
   ]
  },
  {
   "cell_type": "code",
   "execution_count": 7,
   "metadata": {
    "collapsed": true
   },
   "outputs": [],
   "source": [
    "# green_taxi_april = green_taxi_april.drop(labels = [\"lpep_pickup_datetime\", \"Lpep_dropoff_datetime\"], axis = 1)\n",
    "green_taxi_april.to_pickle(\"data/allAprilEnriched\")\n",
    "green_taxi_april[green_taxi_april[\"Lpep_dropoff_datetime\"].map(lambda x: x.day) >= 24].to_pickle(\"data/lateAprilDataEnriched\")"
   ]
  },
  {
   "cell_type": "code",
   "execution_count": 8,
   "metadata": {},
   "outputs": [
    {
     "data": {
      "text/plain": [
       "1159826"
      ]
     },
     "execution_count": 8,
     "metadata": {},
     "output_type": "execute_result"
    }
   ],
   "source": [
    "earlyAprilData = green_taxi_april[green_taxi_april[\"Lpep_dropoff_datetime\"].map(lambda x: x.day) < 24]\n",
    "len(earlyAprilData)"
   ]
  },
  {
   "cell_type": "markdown",
   "metadata": {},
   "source": [
    "Since I'm going to work with a neural network, I want to provide it with as much training data as possible.  In my case, I'm only going to select 100000 rows as validation data to use which is about 8.6% of the early April data leaving me with over 1 million rows for training, which is 93.4% of the early April data."
   ]
  },
  {
   "cell_type": "code",
   "execution_count": 9,
   "metadata": {
    "collapsed": true
   },
   "outputs": [],
   "source": [
    "validationData = earlyAprilData.sample(100000, random_state = 56789)\n",
    "trainingData = earlyAprilData.drop(labels = validation.index.values, axis = 0)\n",
    "trainingData.to_pickle(\"data/earlyAprilDataEnriched\")\n",
    "validationData.to_pickle(\"data/validationAprilDataEnriched\")"
   ]
  },
  {
   "cell_type": "markdown",
   "metadata": {},
   "source": [
    "I am curious to know how well a model built for April will be able to predict data for March, so I'm going to clean up, enrich, and save off March data as well."
   ]
  },
  {
   "cell_type": "code",
   "execution_count": 10,
   "metadata": {
    "collapsed": true
   },
   "outputs": [],
   "source": [
    "weather_march = pd.read_csv(\"data/March2016Weather.txt\")\n",
    "\n",
    "weather_march[\"Precipitation\"] = weather_march[\"Precipitation\"].map(lambda x: getFloatOfPrecipitation(x))\n",
    "weather_march[\"NewSnow\"] = weather_march[\"NewSnow\"].map(lambda x: getFloatOfPrecipitation(x))\n",
    "\n",
    "weather_march[\"Date\"] = weather_march[\"Date\"].map(lambda x: getDate(x, \"%Y-%m-%d\"))\n",
    "weather_march[\"Month\"] = weather_march[\"Date\"].map(lambda x: x.month)\n",
    "weather_march[\"DayNum\"] = weather_march[\"Date\"].map(lambda x: x.day)\n",
    "\n",
    "weather_march = weather_march.drop(labels = [\"HDD\", \"CDD\", \"Departure\", \"SnowDepth\", \"MaxTemp\", \"MinTemp\", \"Date\"], axis = 1)\n",
    "\n",
    "weather_march_dict = {}\n",
    "for i in weather_march.values:\n",
    "    weather_march_dict[(i[3], i[4])] = (i[0], i[1], i[2])\n",
    "    \n",
    "march_sun_data = sun_data[[\"DA\", \"3RIS\", \"3SET\"]].dropna()\n",
    "march_sun_data[\"DA\"] = march_sun_data[\"DA\"].map(lambda x: getDate(x, \"%d\").day)\n",
    "march_sun_data[\"3RIS\"] = march_sun_data[\"3RIS\"].map(lambda x: getDate(x, \"%H%M\"))\n",
    "march_sun_data[\"3SET\"] = march_sun_data[\"3SET\"].map(lambda x: getDate(x, \"%H%M\"))\n",
    "\n",
    "sun_march_dict = {}\n",
    "for i in march_sun_data.values:\n",
    "    sun_march_dict[i[0]] = (i[1], i[2])"
   ]
  },
  {
   "cell_type": "code",
   "execution_count": 11,
   "metadata": {
    "collapsed": true
   },
   "outputs": [],
   "source": [
    "green_taxi_march = pd.read_pickle(\"data/allMarchData\")\n",
    "\n",
    "taxi_march_weather_join_series = green_taxi_march[\"lpep_pickup_datetime\"].map(lambda x: weather_march_dict[(x.month, x.day)])\n",
    "green_taxi_march[\"AvgTemp\"] = taxi_march_weather_join_series.map(lambda x: x[0])\n",
    "green_taxi_march[\"Precipitation\"] = taxi_march_weather_join_series.map(lambda x: x[1])\n",
    "green_taxi_march[\"NewSnow\"] = taxi_march_weather_join_series.map(lambda x: x[2])\n",
    "\n",
    "green_taxi_march[\"trip_length_seconds\"] = green_taxi_march[[\"lpep_pickup_datetime\" ,\"Lpep_dropoff_datetime\"]].apply(lambda x: calcSecondsBetween(*x), axis=1)\n",
    "green_taxi_march[\"trip_length_minutes_rounded\"] = round(green_taxi_march[\"trip_length_seconds\"]/60)\n",
    "\n",
    "green_taxi_march = green_taxi_march[(green_taxi_march[\"trip_length_seconds\"] > 30) & (green_taxi_march[\"trip_length_minutes_rounded\"] <= 180)]\n",
    "\n",
    "green_taxi_march[\"pickup_minute\"] = green_taxi_march[\"lpep_pickup_datetime\"].map(lambda x: x.minute)\n",
    "green_taxi_march[\"pickup_hour\"] = green_taxi_march[\"lpep_pickup_datetime\"].map(lambda x: x.hour)\n",
    "green_taxi_march[\"pickup_day\"] = green_taxi_march[\"lpep_pickup_datetime\"].map(lambda x: x.day)\n",
    "green_taxi_march[\"pickup_weekday\"] = green_taxi_march[\"lpep_pickup_datetime\"].map(lambda x: x.weekday())\n",
    "\n",
    "green_taxi_march[\"dropoff_minute\"] = green_taxi_march[\"Lpep_dropoff_datetime\"].map(lambda x: x.minute)\n",
    "green_taxi_march[\"dropoff_hour\"] = green_taxi_march[\"Lpep_dropoff_datetime\"].map(lambda x: x.hour)\n",
    "green_taxi_march[\"dropoff_day\"] = green_taxi_march[\"Lpep_dropoff_datetime\"].map(lambda x: x.day)\n",
    "green_taxi_march[\"dropoff_weekday\"] = green_taxi_march[\"Lpep_dropoff_datetime\"].map(lambda x: x.weekday())"
   ]
  },
  {
   "cell_type": "code",
   "execution_count": 12,
   "metadata": {
    "collapsed": true
   },
   "outputs": [],
   "source": [
    "green_taxi_march[\"Store_and_fwd_flag\"] = green_taxi_march[\"Store_and_fwd_flag\"].map(lambda x: mapStoreFwdFlag(x))"
   ]
  },
  {
   "cell_type": "code",
   "execution_count": 13,
   "metadata": {
    "collapsed": true
   },
   "outputs": [],
   "source": [
    "def relevantTimeToAprilSunsetSunrise(x):\n",
    "    rise_set = sun_march_dict[x.day]\n",
    "    time_zeroed = datetime(1900,1,1,x.hour,x.minute)\n",
    "    if x.hour < 12: #Before noon so closer to sunrise\n",
    "        if time_zeroed >= rise_set[0]:\n",
    "            diff = time_zeroed - rise_set[0]\n",
    "            diff_minute = diff.total_seconds() / 60.0\n",
    "            if diff_minute < 90:\n",
    "                return (diff_minute, 0)\n",
    "            else :\n",
    "                return (0,0)\n",
    "        else : #Still before sunrise\n",
    "            return (0,0)    \n",
    "    else : #After noon so closer to sunset\n",
    "        if time_zeroed <= rise_set[1]:\n",
    "            diff = rise_set[1] - time_zeroed\n",
    "            diff_minute = diff.total_seconds() / 60.0\n",
    "            if diff_minute < 90:\n",
    "                return (0, diff_minute)\n",
    "            else :\n",
    "                return (0,0)\n",
    "        else : #After sunset\n",
    "            return (0,0)    \n",
    "    \n",
    "pickup_sun_series_march = green_taxi_march[\"lpep_pickup_datetime\"].map(lambda x: relevantTimeToAprilSunsetSunrise(x))\n",
    "dropoff_sun_series_march = green_taxi_march[\"Lpep_dropoff_datetime\"].map(lambda x: relevantTimeToAprilSunsetSunrise(x))\n",
    "\n",
    "green_taxi_march[\"pickup_sunrise\"] = pickup_sun_series_march.map(lambda x: x[0])\n",
    "green_taxi_march[\"pickup_sunset\"] = pickup_sun_series_march.map(lambda x: x[1])\n",
    "green_taxi_march[\"dropoff_sunrise\"] = dropoff_sun_series_march.map(lambda x: x[0])\n",
    "green_taxi_march[\"dropoff_sunset\"] = dropoff_sun_series_march.map(lambda x: x[1])"
   ]
  },
  {
   "cell_type": "code",
   "execution_count": 14,
   "metadata": {
    "collapsed": true
   },
   "outputs": [],
   "source": [
    "# green_taxi_march = green_taxi_march.drop(labels = [\"lpep_pickup_datetime\", \"Lpep_dropoff_datetime\"], axis = 1)\n",
    "\n",
    "green_taxi_march.to_pickle(\"data/allMarchEnriched\")"
   ]
  },
  {
   "cell_type": "code",
   "execution_count": null,
   "metadata": {
    "collapsed": true
   },
   "outputs": [],
   "source": []
  }
 ],
 "metadata": {
  "kernelspec": {
   "display_name": "Python 3",
   "language": "python",
   "name": "python3"
  },
  "language_info": {
   "codemirror_mode": {
    "name": "ipython",
    "version": 3
   },
   "file_extension": ".py",
   "mimetype": "text/x-python",
   "name": "python",
   "nbconvert_exporter": "python",
   "pygments_lexer": "ipython3",
   "version": "3.6.2"
  }
 },
 "nbformat": 4,
 "nbformat_minor": 2
}
